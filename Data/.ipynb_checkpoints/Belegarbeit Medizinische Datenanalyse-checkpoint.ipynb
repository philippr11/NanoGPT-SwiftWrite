{
 "cells": [
  {
   "cell_type": "markdown",
   "id": "8d17d4eb-2f82-4666-8077-c45f34c56b91",
   "metadata": {},
   "source": [
    "# Belegarbeit in Medizinische Datenanalyse"
   ]
  },
  {
   "cell_type": "markdown",
   "id": "c9d9c37d-7f19-4daa-8924-1ccae196e52c",
   "metadata": {},
   "source": [
    "## Gliederung:\n",
    "* [1. Gliederung](#kapitel1)\n",
    "* [2. Datenbeschaffung und Qualitätsanalyse](#kapitel2)\n",
    "* [3. EDA](#kapitel3)\n",
    "    * [3.1 Deskriptive Betrachtung](#kapitel3_1)\n",
    "* [4. Zusammenfassung](#kapitel4)\n",
    "* [5. Limitationen und Ausblick](#kapitel5)"
   ]
  },
  {
   "cell_type": "markdown",
   "id": "d794acc4-6af7-4262-92d9-2f39f81b66c1",
   "metadata": {},
   "source": [
    "## Datenbeschaffung und Qualitätsanalyse <a class=\"anchor\" id=\"kapitel2\"></a>"
   ]
  },
  {
   "cell_type": "code",
   "execution_count": null,
   "id": "16eeb3c7-5da7-45ac-9f40-09747c1d6c30",
   "metadata": {},
   "outputs": [],
   "source": []
  },
  {
   "cell_type": "markdown",
   "id": "fe92aae7-43e5-4eb1-85ab-2f6428fe335e",
   "metadata": {},
   "source": [
    "## Explorative Datenanalyse <a class=\"anchor\" id=\"chapter3\"></a>"
   ]
  },
  {
   "cell_type": "code",
   "execution_count": null,
   "id": "a19d7b87-d5b9-44a9-8afd-44363789c70d",
   "metadata": {},
   "outputs": [],
   "source": []
  },
  {
   "cell_type": "markdown",
   "id": "fb88be2d-49d1-4d00-8380-709acfea6b6c",
   "metadata": {},
   "source": [
    "### Deskriptive Betrachtung <a class=\"anchor\" id=\"kapitel3_1\"></a>"
   ]
  },
  {
   "cell_type": "code",
   "execution_count": null,
   "id": "3094e221-1cd4-4ab4-84ed-d9459740956b",
   "metadata": {},
   "outputs": [],
   "source": []
  },
  {
   "cell_type": "markdown",
   "id": "fc55ea2a-e6b8-4479-94b9-dde53b9c19a3",
   "metadata": {},
   "source": [
    "## Zusammenfassung <a class=\"anchor\" id=\"kapitel4\"></a>"
   ]
  },
  {
   "cell_type": "code",
   "execution_count": null,
   "id": "8cd5a205-3ea3-4944-ae0d-3e5abcb4cf29",
   "metadata": {},
   "outputs": [],
   "source": []
  },
  {
   "cell_type": "markdown",
   "id": "eb871ae1-33aa-4db5-b7c6-4608efc71201",
   "metadata": {},
   "source": [
    "## Limitationen und Ausblick <a class=\"anchor\" id=\"kapitel5\"></a>"
   ]
  },
  {
   "cell_type": "code",
   "execution_count": null,
   "id": "69333a86-4a4d-4d33-9e0e-ac93421e371b",
   "metadata": {},
   "outputs": [],
   "source": []
  }
 ],
 "metadata": {
  "kernelspec": {
   "display_name": "Python 3 (ipykernel)",
   "language": "python",
   "name": "python3"
  },
  "language_info": {
   "codemirror_mode": {
    "name": "ipython",
    "version": 3
   },
   "file_extension": ".py",
   "mimetype": "text/x-python",
   "name": "python",
   "nbconvert_exporter": "python",
   "pygments_lexer": "ipython3",
   "version": "3.9.12"
  }
 },
 "nbformat": 4,
 "nbformat_minor": 5
}
